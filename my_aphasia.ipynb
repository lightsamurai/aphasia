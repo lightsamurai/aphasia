def aphasia_diagnosing(pairs, model): # define function and arguments
    lista = [] # instantiate a list of patients' IDs, target word, produced word
    for line in open(pairs).readlines():
        lista.append(line.strip().split(","))
    lista_soggetti = []
    for i in lista:
        lista_soggetti.append(i[0])
    
# put all word pairs in a dictionary containing a list of lists associated to each key=patient
    d = {} # build the catalog of all patients
    for i in set(lista_soggetti):
# for each unique value corresponding to each patient 
# create a list containing his/her [w1,w2, score]
    
        d[i] = []
    for line in lista:
        d[line[0]].append([(line[1].strip()), (line[2].strip())])

# access each patient's data with d["n"]

    for i in d: # cycle the keys
        for w_pair in d[i]: # cycle the elements in the list corresponding to the key
            w1, w2 = w_pair
            dist = model.similarity(w1, w2)
            w_pair.append(dist)

    lista_similarities = {}
    for l in d.items():
        somma = 0
        for it in l[1]:
            somma=somma+it[2]
        media=somma/len(l[1])
        lista_similarities[int(l[0])]=media
    return lista_similarities
