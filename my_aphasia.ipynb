{
 "cells": [
  {
   "cell_type": "markdown",
   "metadata": {
    "id": "U5n0i8tr9sbY"
   },
   "source": [
    "# APHASIC PATIENTS' LINGUISTIC PRODUCTION\n",
    "# BY COMPUTATIONAL MEANS WORD2VEC"
   ]
  },
  {
   "cell_type": "markdown",
   "metadata": {
    "id": "O_X8glIr9sbp"
   },
   "source": [
    "Aim of this work is to automatize the diagnosis of aphasic patients productions using the word2vec algorithm.\n",
    "Word2vec uses a neural network model to learn word associations from a large corpus of text.\n",
    "\n",
    "We collected our input data into 2 lists of word pairs from the Aphasia Bank (https://aphasia.talkbank.org/).\n",
    "One list is made of 170 EN target/response word pairs.\n",
    "One list is made of 290 IT target/response word pairs.\n",
    "\n",
    "We want to compare the cosine similarity between the target/response pairs in EN.\n",
    "We used the pre-trained 'word2vec-google-news-300' vectors to run the cosine similarity task.\n",
    "\n",
    "We compute the cosine similarity between target and response words using the built-in wv.similarity task of Word2Vec, taking as input our word pairs\n",
    "and using their vectorized form as vectorized in the Google model.\n",
    "\n",
    "For the cosine similarity task for the target/response pairs in IT we trained a model with the SkipGram algorithm of Word2Vec basing on 10 million word from Wikipedia using plainstream."
   ]
  },
  {
   "cell_type": "code",
   "execution_count": null,
   "metadata": {
    "id": "D2844MXJ9sbr"
   },
   "outputs": [],
   "source": [
    "# upload the excel file with pair target/response\n",
    "# pandas***\n",
    "\n",
    "from csv import reader\n",
    "import csv\n",
    "\n",
    "with open(\"/Users/silviafabbi/Desktop/Pairs_EN.csv\", \"r\") as pairs:\n",
    "    \n",
    "    csv_reader = reader(pairs)"
   ]
  },
  {
   "cell_type": "code",
   "execution_count": 55,
   "metadata": {
    "id": "0MeUxQu49sbt",
    "outputId": "ae7e9a6b-7f56-4c3a-fc90-eca501c9ff96"
   },
   "outputs": [
    {
     "name": "stdout",
     "output_type": "stream",
     "text": [
      "       ball   bound\n",
      "0      ball    bask\n",
      "1    window    womb\n",
      "2    broken  bottom\n",
      "3      word   money\n",
      "4      rain     run\n",
      "..      ...     ...\n",
      "97      age    days\n",
      "98   to say  to see\n",
      "99     foot    head\n",
      "100   woman     man\n",
      "101     put    foot\n",
      "\n",
      "[102 rows x 2 columns]\n"
     ]
    },
    {
     "data": {
      "text/plain": [
       "pandas.core.frame.DataFrame"
      ]
     },
     "execution_count": 55,
     "metadata": {},
     "output_type": "execute_result"
    }
   ],
   "source": [
    "import pandas as pd\n",
    "import numpy\n",
    "\n",
    "# Create a dataframe from csv\n",
    "df = pd.read_csv(\"/Users/silviafabbi/Desktop/Pairs_EN.csv\", \"r\", delimiter=',', engine='python')\n",
    "\n",
    "# User list comprehension to create a list of lists from Dataframe rows\n",
    "list_of_rows = [list(row) for row in df.values]\n",
    "\n",
    "print(df)\n",
    "type(df)"
   ]
  },
  {
   "cell_type": "code",
   "execution_count": 30,
   "metadata": {
    "id": "bYHSDZsc9sbu",
    "outputId": "350a4731-3920-4c73-ec61-affa146c11d7"
   },
   "outputs": [],
   "source": [
    "# MODEL 1 - EN - vectors from GoogleNews\n",
    "\n",
    "# We use gensim to import a word2vec model pretrained on google news \n",
    "# We load the pretrained model of the type #gensim.models.keyedvectors.Word2VecKeyedVectors\n",
    "# using the gensim standard method .load()\n",
    "# This type of pretrained model cannot be refined with additional data\n",
    "# but has the advantage of saving RAM by dealing with huge quantity of data\n",
    "# The 'word2vec-google-news-300' are pre-trained vectors trained on Google News dataset (about 100 billion words)\n",
    "# The model contains 300-dimensional vectors for 3 million words and phrases\n",
    "\n",
    "from gensim.models import Word2Vec\n",
    "import gensim.downloader as api"
   ]
  },
  {
   "cell_type": "code",
   "execution_count": 2,
   "metadata": {
    "id": "wXy12zem9sbw"
   },
   "outputs": [
    {
     "data": {
      "text/plain": [
       "gensim.models.keyedvectors.Word2VecKeyedVectors"
      ]
     },
     "execution_count": 2,
     "metadata": {},
     "output_type": "execute_result"
    }
   ],
   "source": [
    "wv = api.load('word2vec-google-news-300')\n",
    "type(wv) # gensim.models.keyedvectors.Word2VecKeyedVectors"
   ]
  },
  {
   "cell_type": "code",
   "execution_count": 7,
   "metadata": {
    "id": "yFCjofjY9sbx",
    "outputId": "5eda08fe-6853-4974-b645-af8cafed6ad1"
   },
   "outputs": [
    {
     "name": "stdout",
     "output_type": "stream",
     "text": [
      "'ball'\t'bound'\t0.0339\n",
      "'ball'\t'bask'\t0.0549\n",
      "'window'\t'womb'\t0.1947\n",
      "'broken'\t'bottom'\t0.1166\n",
      "'word'\t'money'\t0.2119\n",
      "'rain'\t'run'\t0.1114\n",
      "'dog'\t'guy'\t0.2742\n",
      "'barking'\t'biting'\t0.3858\n",
      "'cat'\t'god'\t0.1099\n",
      "'girl'\t'guy'\t0.3644\n",
      "'tree'\t'train'\t0.1557\n",
      "'ball'\t'bald'\t0.1118\n",
      "'ball'\t'barn'\t0.0713\n",
      "'ball'\t'banks'\t0.0107\n",
      "'glass'\t'grass'\t0.1117\n",
      "'woman'\t'man'\t0.7664\n",
      "'somewhere'\t'someone'\t0.4419\n",
      "'wear'\t'words'\t0.0561\n",
      "'shoe'\t'scene'\t0.0908\n",
      "'boy'\t'man'\t0.6825\n",
      "'mother'\t'wife'\t0.7551\n",
      "'school'\t'cool'\t0.1263\n",
      "'girl'\t'earl'\t0.2010\n",
      "'slipper'\t'sipper'\t0.1738\n",
      "'lamp'\t'lap'\t0.1483\n",
      "'umbrella'\t'ball'\t0.0570\n",
      "'short'\t'sort'\t0.1629\n",
      "'boy'\t'boil'\t0.1139\n",
      "'woman'\t'man'\t0.7664\n",
      "'fourth'\t'force'\t0.1147\n",
      "'door'\t'window'\t0.6213\n",
      "'fireman'\t'policeman'\t0.5428\n",
      "'glass'\t'gas'\t0.0585\n",
      "'soaking'\t'stoking'\t0.2246\n",
      "'ladder'\t'window'\t0.3029\n",
      "'kick'\t'cook'\t0.0898\n",
      "'window'\t'door'\t0.6213\n",
      "'umbrella'\t'comb'\t0.0946\n",
      "'umbrella'\t'bread'\t0.0462\n",
      "'umbrella'\t'read'\t-0.0125\n",
      "'catch'\t'kitchen'\t0.0604\n",
      "'ball'\t'bell'\t0.0863\n",
      "'soccer'\t'sock'\t0.1546\n",
      "'mother'\t'daughter'\t0.8706\n",
      "'lamp'\t'lights'\t0.4994\n",
      "'give'\t'gay'\t0.0486\n",
      "'rescue'\t'like'\t0.0662\n",
      "'dog'\t'door'\t0.1997\n",
      "'bark'\t'talk'\t0.1986\n",
      "'kick'\t'cook'\t0.0898\n",
      "'show'\t'go'\t0.1650\n",
      "'kick'\t'hit'\t0.2502\n",
      "'both'\t'bow'\t0.0941\n",
      "'cat'\t'hat'\t0.1706\n",
      "'dog'\t'boy'\t0.3522\n",
      "'cat'\t'girl'\t0.3039\n",
      "'reach'\t'crawl'\t0.2543\n",
      "'there'\t'hair'\t0.0724\n",
      "'ride'\t'drive'\t0.3714\n",
      "'quite'\t'white'\t0.0891\n",
      "'girl'\t'boy'\t0.8543\n",
      "'grow'\t'goes'\t0.1579\n",
      "'page'\t'bar'\t0.1206\n",
      "'umbrella'\t'black'\t0.1056\n",
      "'naughty'\t'nasty'\t0.4207\n",
      "'walk'\t'speak'\t0.2858\n",
      "'girl'\t'woman'\t0.7495\n",
      "'ride'\t'run'\t0.3192\n",
      "'cat'\t'hat'\t0.1706\n",
      "'branch'\t'window'\t0.2317\n",
      "'father'\t'mother'\t0.7901\n",
      "'tree'\t'try'\t0.0694\n",
      "'tree'\t'far'\t0.0678\n",
      "'dog'\t'fog'\t0.0666\n",
      "'ladder'\t'water'\t0.1233\n",
      "'truck'\t'bottle'\t0.1837\n",
      "'truck'\t'home'\t0.2014\n",
      "'fire'\t'ocean'\t0.0819\n",
      "'tree'\t'hospital'\t0.0841\n",
      "'bird'\t'song'\t0.1436\n",
      "'maid'\t'main'\t0.0134\n",
      "'woman'\t'man'\t0.7664\n",
      "'that'\t'dat'\t0.1025\n",
      "'foot'\t'pit'\t0.0751\n",
      "'slipper'\t'pitcher'\t0.0831\n",
      "'put'\t'pit'\t0.0629\n",
      "'sisters'\t'brothers'\t0.6871\n",
      "'boy'\t'man'\t0.6825\n",
      "'hands'\t'heads'\t0.3448\n",
      "'cry'\t'try'\t0.1564\n",
      "'wheels'\t'feels'\t0.1272\n",
      "'ladder'\t'letter'\t-0.0459\n",
      "'age'\t'days'\t0.2333\n",
      "'say'\t'see'\t0.4852\n",
      "'foot'\t'head'\t0.0673\n",
      "'woman'\t'man'\t0.7664\n",
      "'put'\t'foot'\t0.1940\n"
     ]
    }
   ],
   "source": [
    "# Now we compare the similarity of the target/response word pairs\n",
    "# using wv = api.load('word2vec-google-news-300') as a pretrained model\n",
    "# pairs - is a list of the tuples made by target/response word\n",
    "# type(pairs) = _io.TextIOWrapper\n",
    "\n",
    "pairs = [\n",
    "    ('ball', 'bound'),\n",
    "    ('ball', 'bask'),\n",
    "    ('window', 'womb'),\n",
    "    ('broken', 'bottom'),\n",
    "    ('word', 'money'),\n",
    "    ('rain', 'run'),\n",
    "    ('dog', 'guy'),\n",
    "    ('barking', 'biting'),\n",
    "    ('cat', 'god'),\n",
    "    ('girl', 'guy'),\n",
    "    ('tree', 'train'),\n",
    "    ('ball', 'bald'),\n",
    "    ('ball', 'barn'),\n",
    "    ('ball', 'banks'),\n",
    "    ('glass', 'grass'),\n",
    "    ('woman', 'man'),\n",
    "    ('somewhere', 'someone'),\n",
    "    ('wear', 'words'),\n",
    "    ('shoe', 'scene'),\n",
    "    ('boy', 'man'),\n",
    "    ('mother', 'wife'),\n",
    "    ('school', 'cool'),\n",
    "    ('girl', 'earl'),\n",
    "    ('slipper', 'sipper'),\n",
    "    ('lamp', 'lap'),\n",
    "    ('umbrella', 'ball'),\n",
    "    ('short', 'sort'),\n",
    "    ('boy', 'boil'),\n",
    "    ('woman', 'man'),\n",
    "    ('fourth', 'force'),\n",
    "    ('door', 'window'),\n",
    "    ('fireman', 'policeman'),\n",
    "    ('glass', 'gas'),\n",
    "    ('soaking', 'stoking'),\n",
    "    ('ladder', 'window'),\n",
    "    ('kick', 'cook'),\n",
    "    ('window', 'door'),\n",
    "    ('umbrella', 'comb'),\n",
    "    ('umbrella', 'bread'),\n",
    "    ('umbrella', 'read'),\n",
    "    ('catch', 'kitchen'),\n",
    "    ('ball', 'bell'),\n",
    "    ('soccer', 'sock'),\n",
    "    ('mother', 'daughter'),\n",
    "    ('lamp', 'lights'),\n",
    "    ('give', 'gay'),\n",
    "    ('rescue', 'like'),\n",
    "    ('dog', 'door'),\n",
    "    ('bark', 'talk'),\n",
    "    ('kick', 'cook'),\n",
    "    ('show', 'go'),\n",
    "    ('kick', 'hit'),\n",
    "    ('both', 'bow'),\n",
    "    ('cat', 'hat'),\n",
    "    ('dog', 'boy'),\n",
    "    ('cat', 'girl'),\n",
    "    ('reach', 'crawl'),\n",
    "    ('there', 'hair'),\n",
    "    ('ride', 'drive'),\n",
    "    ('quite', 'white'),\n",
    "    ('girl', 'boy'),\n",
    "    ('grow', 'goes'),\n",
    "    ('page', 'bar'),\n",
    "    ('umbrella', 'black'),\n",
    "    ('naughty', 'nasty'),\n",
    "    ('walk', 'speak'),\n",
    "    ('girl', 'woman'),\n",
    "    ('ride', 'run'),\n",
    "    ('cat', 'hat'),\n",
    "    ('branch', 'window'),\n",
    "    ('father', 'mother'),\n",
    "    ('tree', 'try'),\n",
    "    ('tree', 'far'),\n",
    "    ('dog', 'fog'),\n",
    "    ('ladder', 'water'),\n",
    "    ('truck', 'bottle'),\n",
    "    ('truck', 'home'),\n",
    "    ('fire', 'ocean'),\n",
    "    ('tree', 'hospital'),\n",
    "    ('bird', 'song'),\n",
    "    ('maid', 'main'),\n",
    "    ('woman', 'man'),\n",
    "    ('that', 'dat'),\n",
    "    ('foot', 'pit'),\n",
    "    ('slipper', 'pitcher'),\n",
    "    ('put', 'pit'),\n",
    "    ('sisters', 'brothers'),\n",
    "    ('boy', 'man'),\n",
    "    ('hands', 'heads'),\n",
    "    ('cry', 'try'),\n",
    "    ('wheels', 'feels'),\n",
    "    ('ladder', 'letter'),\n",
    "    ('age', 'days'),\n",
    "    ('say', 'see'),\n",
    "    ('foot', 'head'),\n",
    "    ('woman', 'man'),\n",
    "    ('put', 'foot'),   \n",
    "]\n",
    "\n",
    "for w1, w2 in pairs:\n",
    "    print('%r\\t%r\\t%.4f' % (w1, w2, wv.similarity(w1, w2)))\n",
    "    \n",
    "# meaning last line of code:    \n",
    "# \"%r\\t%r\\t\" sono caratteri \"jolly\" che vengono sostituiti col contenuto nella n-upla passata per mezzo di \"%\"\n",
    "# In questo caso hai una stringa \"%r\" separata da una tabulazione \"\\t\" seguita da un altro \"%r\" e relativa tabulazione \n",
    "# \"% .2f\" chiude con un float a 4 decimali\n",
    "# Python sa che deve sostituire, nell'ordine specificato,\n",
    "# quelle sequenze con il contenuto delle variabili passate per mezzo di \"%\" prima di stamparle"
   ]
  },
  {
   "cell_type": "code",
   "execution_count": null,
   "metadata": {
    "id": "8Hs23nFA9sby",
    "outputId": "2bccd8bb-05b4-46a1-bf2d-4ef435378436"
   },
   "outputs": [
    {
     "data": {
      "text/plain": [
       "[('balls', 0.6992625594139099),\n",
       " ('upfield', 0.6896207928657532),\n",
       " ('downfield', 0.6390728950500488),\n",
       " ('dribbler', 0.6218727827072144),\n",
       " ('balll', 0.6199932098388672),\n",
       " ('dribble', 0.616877555847168),\n",
       " ('ball_squirted', 0.6110137701034546),\n",
       " ('leftfooted', 0.6020259857177734),\n",
       " ('puck', 0.5981724262237549),\n",
       " ('mishit', 0.5948782563209534),\n",
       " ('lofted', 0.5933606028556824),\n",
       " ('theball', 0.5924203395843506),\n",
       " ('bobbling', 0.5848650336265564),\n",
       " ('dinked', 0.5820186138153076),\n",
       " ('dribbles', 0.5811805725097656),\n",
       " ('beautifully_flighted', 0.5757741928100586),\n",
       " ('mistimes', 0.5747321844100952),\n",
       " ('onsides', 0.5730898380279541),\n",
       " ('perfectly_flighted', 0.5724466443061829),\n",
       " ('deadball', 0.5708563923835754)]"
      ]
     },
     "execution_count": 104,
     "metadata": {
      "tags": []
     },
     "output_type": "execute_result"
    }
   ],
   "source": [
    "wv.most_similar(\"ball\", topn=20)"
   ]
  },
  {
   "cell_type": "code",
   "execution_count": null,
   "metadata": {
    "id": "I3uLSivg9sbz",
    "outputId": "3b31c1ea-0464-4ee3-bc15-111f12a5e8f5"
   },
   "outputs": [
    {
     "name": "stdout",
     "output_type": "stream",
     "text": [
      "revel: 0.4761\n"
     ]
    }
   ],
   "source": [
    "result = wv.most_similar(positive=['ball', 'bask'], negative=['barn'])\n",
    "\n",
    "most_similar_key, similarity = result[0]  # look at the first match\n",
    "print(f\"{most_similar_key}: {similarity:.4f}\")"
   ]
  },
  {
   "cell_type": "code",
   "execution_count": null,
   "metadata": {
    "id": "lpFvI-nE9sb1",
    "outputId": "914e7290-efa3-463d-dda7-66a4a8e18e2a"
   },
   "outputs": [
    {
     "name": "stdout",
     "output_type": "stream",
     "text": [
      "panther: 0.5573\n"
     ]
    }
   ],
   "source": [
    "# MOST SIMILAR FOR ENGLISH\n",
    "\n",
    "result = wv.most_similar(positive=['tiger', 'puma'], negative=['lion'])\n",
    "\n",
    "most_similar_key, similarity = result[0]  # look at the first match\n",
    "print(f\"{most_similar_key}: {similarity:.4f}\")"
   ]
  },
  {
   "cell_type": "code",
   "execution_count": null,
   "metadata": {
    "id": "NPIOh8qj9sb3",
    "outputId": "7c6083e4-a52b-49d3-81ac-5208f79a294e"
   },
   "outputs": [
    {
     "name": "stdout",
     "output_type": "stream",
     "text": [
      "tigers: 0.5206\n"
     ]
    }
   ],
   "source": [
    "result = wv.most_similar(positive=['tiger', 'puma'], negative=['lion'])\n",
    "\n",
    "most_similar_key, similarity = result[1]  # look at the second match\n",
    "print(f\"{most_similar_key}: {similarity:.4f}\")"
   ]
  },
  {
   "cell_type": "code",
   "execution_count": null,
   "metadata": {
    "id": "d3ebZu7_9sb3",
    "outputId": "91c1da25-9ec6-4d6f-fe86-933dde0290dc"
   },
   "outputs": [
    {
     "name": "stdout",
     "output_type": "stream",
     "text": [
      "jaguars: 0.4805\n"
     ]
    }
   ],
   "source": [
    "result = wv.most_similar(positive=['tiger', 'puma'], negative=['lion'])\n",
    "\n",
    "most_similar_key, similarity = result[2]  # look at the third match\n",
    "print(f\"{most_similar_key}: {similarity:.4f}\")"
   ]
  },
  {
   "cell_type": "code",
   "execution_count": null,
   "metadata": {
    "id": "xacjqSkA9sb4"
   },
   "outputs": [],
   "source": [
    "# MODEL 2 - based on wikipedia extracted with GloVe (an alternative to Word2Vec)"
   ]
  },
  {
   "cell_type": "code",
   "execution_count": 5,
   "metadata": {
    "id": "HRiIrRDz9sb4"
   },
   "outputs": [],
   "source": [
    "model = api.load('glove-wiki-gigaword-100')\n",
    "\n",
    "# type(model) = gensim.models.keyedvectors.Word2VecKeyedVectors"
   ]
  },
  {
   "cell_type": "code",
   "execution_count": 8,
   "metadata": {
    "id": "QRbnMA4N9sb5",
    "outputId": "39f5cc7b-18b8-4c17-f7e8-cf5e18506142"
   },
   "outputs": [
    {
     "name": "stdout",
     "output_type": "stream",
     "text": [
      "'ball'\t'bound'\t0.3754\n",
      "'ball'\t'bask'\t0.0131\n",
      "'window'\t'womb'\t0.2678\n",
      "'broken'\t'bottom'\t0.4862\n",
      "'word'\t'money'\t0.4260\n",
      "'rain'\t'run'\t0.3650\n",
      "'dog'\t'guy'\t0.5169\n",
      "'barking'\t'biting'\t0.3643\n",
      "'cat'\t'god'\t0.3051\n",
      "'girl'\t'guy'\t0.5142\n",
      "'tree'\t'train'\t0.2779\n",
      "'ball'\t'bald'\t0.2374\n",
      "'ball'\t'barn'\t0.2118\n",
      "'ball'\t'banks'\t0.2028\n",
      "'glass'\t'grass'\t0.3207\n",
      "'woman'\t'man'\t0.8323\n",
      "'somewhere'\t'someone'\t0.6049\n",
      "'wear'\t'words'\t0.2899\n",
      "'shoe'\t'scene'\t0.2811\n",
      "'boy'\t'man'\t0.7915\n",
      "'mother'\t'wife'\t0.9026\n",
      "'school'\t'cool'\t0.2501\n",
      "'girl'\t'earl'\t0.1803\n",
      "'slipper'\t'sipper'\t0.1260\n",
      "'lamp'\t'lap'\t0.2265\n",
      "'umbrella'\t'ball'\t0.1566\n",
      "'short'\t'sort'\t0.5315\n",
      "'boy'\t'boil'\t0.0712\n",
      "'woman'\t'man'\t0.8323\n",
      "'fourth'\t'force'\t0.4121\n",
      "'door'\t'window'\t0.8181\n",
      "'fireman'\t'policeman'\t0.4406\n",
      "'glass'\t'gas'\t0.3752\n",
      "'soaking'\t'stoking'\t0.2127\n",
      "'ladder'\t'window'\t0.4182\n",
      "'kick'\t'cook'\t0.2695\n",
      "'window'\t'door'\t0.8181\n",
      "'umbrella'\t'comb'\t0.1076\n",
      "'umbrella'\t'bread'\t0.1757\n",
      "'umbrella'\t'read'\t0.1107\n",
      "'catch'\t'kitchen'\t0.2419\n",
      "'ball'\t'bell'\t0.4173\n",
      "'soccer'\t'sock'\t0.0379\n",
      "'mother'\t'daughter'\t0.9063\n",
      "'lamp'\t'lights'\t0.6559\n",
      "'give'\t'gay'\t0.3341\n",
      "'rescue'\t'like'\t0.3191\n",
      "'dog'\t'door'\t0.4325\n",
      "'bark'\t'talk'\t0.1058\n",
      "'kick'\t'cook'\t0.2695\n",
      "'show'\t'go'\t0.6221\n",
      "'kick'\t'hit'\t0.4981\n",
      "'both'\t'bow'\t0.3321\n",
      "'cat'\t'hat'\t0.5305\n",
      "'dog'\t'boy'\t0.6545\n",
      "'cat'\t'girl'\t0.5805\n",
      "'reach'\t'crawl'\t0.3021\n",
      "'there'\t'hair'\t0.3553\n",
      "'ride'\t'drive'\t0.6002\n",
      "'quite'\t'white'\t0.3909\n",
      "'girl'\t'boy'\t0.9176\n",
      "'grow'\t'goes'\t0.4347\n",
      "'page'\t'bar'\t0.3397\n",
      "'umbrella'\t'black'\t0.3760\n",
      "'naughty'\t'nasty'\t0.5423\n",
      "'walk'\t'speak'\t0.4834\n",
      "'girl'\t'woman'\t0.8473\n",
      "'ride'\t'run'\t0.5211\n",
      "'cat'\t'hat'\t0.5305\n",
      "'branch'\t'window'\t0.2469\n",
      "'father'\t'mother'\t0.8657\n",
      "'tree'\t'try'\t0.2366\n",
      "'tree'\t'far'\t0.2978\n",
      "'dog'\t'fog'\t0.1559\n",
      "'ladder'\t'water'\t0.2791\n",
      "'truck'\t'bottle'\t0.3905\n",
      "'truck'\t'home'\t0.4779\n",
      "'fire'\t'ocean'\t0.4379\n",
      "'tree'\t'hospital'\t0.2537\n",
      "'bird'\t'song'\t0.2810\n",
      "'maid'\t'main'\t0.1105\n",
      "'woman'\t'man'\t0.8323\n",
      "'that'\t'dat'\t0.0202\n",
      "'foot'\t'pit'\t0.4264\n",
      "'slipper'\t'pitcher'\t0.1069\n",
      "'put'\t'pit'\t0.3349\n",
      "'sisters'\t'brothers'\t0.6723\n",
      "'boy'\t'man'\t0.7915\n",
      "'hands'\t'heads'\t0.6775\n",
      "'cry'\t'try'\t0.3727\n",
      "'wheels'\t'feels'\t0.2327\n",
      "'ladder'\t'letter'\t-0.0442\n",
      "'age'\t'days'\t0.5538\n",
      "'say'\t'see'\t0.7987\n",
      "'foot'\t'head'\t0.4846\n",
      "'woman'\t'man'\t0.8323\n",
      "'put'\t'foot'\t0.5148\n"
     ]
    }
   ],
   "source": [
    "# let's compare the similarity of the word pairs using\n",
    "# model = api.load('glove-wiki-gigaword-100')\n",
    "\n",
    "for w1, w2 in pairs:\n",
    "    print('%r\\t%r\\t%.4f' % (w1, w2, model.similarity(w1, w2)))"
   ]
  },
  {
   "cell_type": "code",
   "execution_count": null,
   "metadata": {
    "id": "exRnqlVs9sb6"
   },
   "outputs": [],
   "source": [
    "# MOST similar for Glove Model"
   ]
  },
  {
   "cell_type": "code",
   "execution_count": 9,
   "metadata": {
    "id": "Byw9Ewk49sb7",
    "outputId": "7f2017cc-f2ee-4f2f-fda4-ed5d3aaa1294"
   },
   "outputs": [
    {
     "data": {
      "text/plain": [
       "[('kick', 0.7723649740219116),\n",
       " ('throw', 0.7400174140930176),\n",
       " ('balls', 0.7349199056625366),\n",
       " ('off', 0.7285565137863159),\n",
       " ('pitch', 0.7162729501724243),\n",
       " ('bounced', 0.7043442130088806),\n",
       " ('catch', 0.6956070065498352),\n",
       " ('missed', 0.6835888624191284),\n",
       " ('pass', 0.677986741065979),\n",
       " ('deflected', 0.6777893900871277)]"
      ]
     },
     "execution_count": 9,
     "metadata": {},
     "output_type": "execute_result"
    }
   ],
   "source": [
    "model.most_similar(\"ball\")"
   ]
  },
  {
   "cell_type": "code",
   "execution_count": null,
   "metadata": {
    "id": "49gAGX529sb7"
   },
   "outputs": [],
   "source": [
    "# MODEL 3 - IT - vectors from a model from plainstream/wikipedia\n",
    "# model ITA from Wikipedia - 10 mln words\n",
    "# \n",
    "# After training a w2v model in ITA, I saved it as a .model file\n",
    "# The model was trained using the Skip Gram algorithm of Word2Vec\n"
   ]
  },
  {
   "cell_type": "code",
   "execution_count": 24,
   "metadata": {
    "id": "BDCmuMrC9sb7"
   },
   "outputs": [],
   "source": [
    "import nltk\n",
    "import plainstream\n",
    "import gensim\n",
    "from gensim.models import KeyedVectors\n",
    "\n",
    "# We are introducing the time module: it has many uses, but here we are just using the .time() method\n",
    "# to measure the execution time of a process\n",
    "import time"
   ]
  },
  {
   "cell_type": "code",
   "execution_count": 25,
   "metadata": {
    "id": "R-eey4w29sb8"
   },
   "outputs": [
    {
     "name": "stdout",
     "output_type": "stream",
     "text": [
      "113.66088199615479\n"
     ]
    }
   ],
   "source": [
    "s = time.time()\n",
    "# Here we are asking plainstream to give us a certain amount of words (10 milion in this case).\n",
    "# NB: a plainstream.get_text() obejct is a generator, which is empty after one use\n",
    "# Generator functions allow you to declare a function that behaves like an iterator\n",
    "# i.e. it can be used in a for loop\n",
    "some_wiki = plainstream.get_text(\"it\", max_words=10000000, tokenize=True)\n",
    "some_text = []\n",
    "\n",
    "# we want to make sure that every word is lower case. Because some_wiki generates lists\n",
    "# of lists of tokens (i.e: tokenized sentences) we need to nest a couple of for loops in order to \n",
    "# reach the strings that we want to manipulate\n",
    "\n",
    "for tokens_list in some_wiki:\n",
    "    temp = []\n",
    "    for word in tokens_list:\n",
    "        temp.append(word.lower())\n",
    "    some_text.append(temp)\n",
    "e = time.time()\n",
    "print(e-s)"
   ]
  },
  {
   "cell_type": "code",
   "execution_count": 27,
   "metadata": {
    "id": "hTFUgYeJ9scD"
   },
   "outputs": [
    {
     "data": {
      "text/plain": [
       "<generator object get_text at 0x7fdafab93740>"
      ]
     },
     "execution_count": 27,
     "metadata": {},
     "output_type": "execute_result"
    }
   ],
   "source": [
    "some_wiki # <generator object get_text at 0x7fce21e0ac10>"
   ]
  },
  {
   "cell_type": "code",
   "execution_count": 28,
   "metadata": {
    "id": "oXUDCr8T9scE"
   },
   "outputs": [
    {
     "name": "stdout",
     "output_type": "stream",
     "text": [
      "258.0889081954956\n"
     ]
    }
   ],
   "source": [
    "s = time.time()\n",
    "# this is where we train the model. We are using a couple of parameters here, but the most\n",
    "# relevant is \"sg\", which means that we are using the skipgram algorithm\n",
    "model_ita = gensim.models.word2vec.Word2Vec(sentences=some_text, size=300, min_count=4, sg=1)\n",
    "e = time.time()\n",
    "print(e-s)"
   ]
  },
  {
   "cell_type": "code",
   "execution_count": 29,
   "metadata": {
    "id": "d9ZWJy299scF"
   },
   "outputs": [],
   "source": [
    "model_ita.save(\"/Users/silviafabbi/Desktop/ord2vec_10mil_wiki.model\")"
   ]
  },
  {
   "cell_type": "code",
   "execution_count": 37,
   "metadata": {
    "id": "E-6fLxS49scF"
   },
   "outputs": [],
   "source": [
    "# reload the trained model\n",
    "\n",
    "model_ita = KeyedVectors.load(\"/Users/silviafabbi/Desktop/ord2vec_10mil_wiki.model\")"
   ]
  },
  {
   "cell_type": "code",
   "execution_count": 38,
   "metadata": {
    "id": "2XrELqJf9scG",
    "outputId": "dd7a1781-9860-4f2a-f3d0-115f800a1613"
   },
   "outputs": [
    {
     "data": {
      "text/plain": [
       "[('nuca', 0.7554254531860352),\n",
       " ('caviglia', 0.7333213686943054),\n",
       " ('fratturata', 0.728863537311554),\n",
       " ('mento', 0.7269062995910645),\n",
       " ('quadriga', 0.7184330224990845),\n",
       " ('schiena', 0.7161000370979309),\n",
       " ('pistola', 0.7155369520187378),\n",
       " ('guancia', 0.7101519107818604),\n",
       " ('tridente', 0.709312379360199),\n",
       " ('porge', 0.7087308168411255)]"
      ]
     },
     "execution_count": 38,
     "metadata": {},
     "output_type": "execute_result"
    }
   ],
   "source": [
    "model_ita.wv.most_similar(\"gamba\")"
   ]
  },
  {
   "cell_type": "code",
   "execution_count": 10,
   "metadata": {},
   "outputs": [],
   "source": [
    "def tupleize(file):\n",
    "    output = []\n",
    "    with open(file, \"r\") as input:\n",
    "        line = input.readline()\n",
    "        while line:\n",
    "            nuple = tuple(line.rstrip().split(\", \"))\n",
    "            output.append(nuple)\n",
    "            line = input.readline()\n",
    "    return output"
   ]
  },
  {
   "cell_type": "code",
   "execution_count": 39,
   "metadata": {},
   "outputs": [
    {
     "data": {
      "text/plain": [
       "[('abbaiare;saluta',),\n",
       " ('scala;piede',),\n",
       " ('calciare;lanciare',),\n",
       " ('prendere;chiedere',),\n",
       " ('ombrello;acqua',),\n",
       " ('bagnato;dormito',),\n",
       " ('rincorrere;prendere',),\n",
       " ('arrampicarsi;girare',),\n",
       " ('abbaiare;giocare',),\n",
       " ('vetro;vetro',),\n",
       " ('ombrello;pioggia',),\n",
       " ('palla;finestra',),\n",
       " ('rompere;venire',),\n",
       " ('prendere;mettere',),\n",
       " ('salvare;trascinare',),\n",
       " ('sorellastre;donne',),\n",
       " ('topolini;scoiattoli',),\n",
       " ('fata;amante',),\n",
       " ('fata;aspetta',),\n",
       " ('fata;la',),\n",
       " ('piovere;pioggia',),\n",
       " ('bloccarsi;restare',),\n",
       " ('figlie;sorelle',),\n",
       " ('scomparire;spegnersi',),\n",
       " ('lanciare;fare',),\n",
       " ('uscire;partire',),\n",
       " ('palla;palo',)]"
      ]
     },
     "execution_count": 39,
     "metadata": {},
     "output_type": "execute_result"
    }
   ],
   "source": [
    "# I apply my tupleize function to my .csv file\n",
    "\n",
    "coppie = tupleize(\"/Users/silviafabbi/Desktop/pairs_IT.csv\")[1:]\n",
    "\n",
    "coppie"
   ]
  },
  {
   "cell_type": "code",
   "execution_count": 40,
   "metadata": {},
   "outputs": [],
   "source": [
    "# I need to normalize my function using regex to get normalized tuples:\n",
    "# I substitute every \";\" with \" \" (empty space) and \",\"\n",
    "\n",
    "import re\n",
    "\n",
    "def my_csv_tokenizer(s):\n",
    "    for line in coppie:\n",
    "        pattern = r\"\"\"([a-z]+)(;)([a-z]+)([,]+)\"\"\"\n",
    "        if pattern in coppie:\n",
    "    \n",
    "    # I define a function that takes s = /data/ (-> list of stings) as input\n",
    "    # and for every string in s = /data/\n",
    "    # every time my for loop meets one or more /;/ substituites it with empty space\n",
    "      \n",
    "            return re.sub(pattern, r\"\\1 \\3 \", s)"
   ]
  },
  {
   "cell_type": "code",
   "execution_count": 52,
   "metadata": {},
   "outputs": [
    {
     "data": {
      "text/plain": [
       "[('scala', 'piede'),\n",
       " ('calciare', 'lanciare'),\n",
       " ('prendere', 'chiedere'),\n",
       " ('ombrello', 'acqua'),\n",
       " ('bagnato', 'dormire'),\n",
       " ('rincorrere', 'prendere'),\n",
       " ('scalare', 'girare'),\n",
       " ('vetro', 'vetro'),\n",
       " ('ombrello', 'pioggia'),\n",
       " ('palla', 'finestra'),\n",
       " ('rompere', 'venire'),\n",
       " ('prendere', 'mettere'),\n",
       " ('salvare', 'trascinare'),\n",
       " ('sorellastre', 'donne'),\n",
       " ('topi', 'scoiattoli'),\n",
       " ('fata', 'amante'),\n",
       " ('fata', 'aspetta'),\n",
       " ('fata', 'la'),\n",
       " ('pioggia', 'pioggia'),\n",
       " ('bloccare', 'restare'),\n",
       " ('figlie', 'sorelle'),\n",
       " ('scomparire', 'spegnersi'),\n",
       " ('lanciare', 'fare'),\n",
       " ('uscire', 'partire'),\n",
       " ('palla', 'palo')]"
      ]
     },
     "execution_count": 52,
     "metadata": {},
     "output_type": "execute_result"
    }
   ],
   "source": [
    "my_csv_tokenizer(coppie)\n",
    "\n",
    "coppie"
   ]
  },
  {
   "cell_type": "code",
   "execution_count": 53,
   "metadata": {
    "id": "1sV0K8du9scH",
    "outputId": "affad1a6-da9b-4081-8741-8c4e03e6f37b"
   },
   "outputs": [
    {
     "name": "stdout",
     "output_type": "stream",
     "text": [
      "'scala'\t'piede'\t0.1823\n",
      "'calciare'\t'lanciare'\t0.5785\n",
      "'prendere'\t'chiedere'\t0.5782\n",
      "'ombrello'\t'acqua'\t0.4904\n",
      "'bagnato'\t'dormire'\t0.4128\n",
      "'rincorrere'\t'prendere'\t0.4610\n",
      "'scalare'\t'girare'\t0.2930\n",
      "'vetro'\t'vetro'\t1.0000\n",
      "'ombrello'\t'pioggia'\t0.4927\n",
      "'palla'\t'finestra'\t0.4999\n",
      "'rompere'\t'venire'\t0.4567\n",
      "'prendere'\t'mettere'\t0.5360\n",
      "'salvare'\t'trascinare'\t0.6874\n",
      "'sorellastre'\t'donne'\t0.4786\n",
      "'topi'\t'scoiattoli'\t0.6643\n",
      "'fata'\t'amante'\t0.5440\n",
      "'fata'\t'aspetta'\t0.5140\n",
      "'fata'\t'la'\t0.2890\n",
      "'pioggia'\t'pioggia'\t1.0000\n",
      "'bloccare'\t'restare'\t0.5101\n",
      "'figlie'\t'sorelle'\t0.8361\n",
      "'scomparire'\t'spegnersi'\t0.6333\n",
      "'lanciare'\t'fare'\t0.4572\n",
      "'uscire'\t'partire'\t0.3452\n",
      "'palla'\t'palo'\t0.4779\n"
     ]
    }
   ],
   "source": [
    "for w1, w2 in coppie:\n",
    "    print('%r\\t%r\\t%.4f' % (w1, w2, model_ita.wv.similarity(w1, w2)))\n",
    "    \n",
    "# in case the response word matches the target word (like \"pioggia\" vs \"pioggia\") the similarity is 1 (maximum)"
   ]
  },
  {
   "cell_type": "code",
   "execution_count": null,
   "metadata": {
    "id": "wtA_puTf9scI"
   },
   "outputs": [],
   "source": [
    "# let's now compare the cosine similarity and Spearman correlation"
   ]
  },
  {
   "cell_type": "code",
   "execution_count": null,
   "metadata": {
    "id": "RXU_tyiR9scI",
    "outputId": "2da89365-6b48-48b4-e6b3-e39b1bf4a264"
   },
   "outputs": [
    {
     "name": "stdout",
     "output_type": "stream",
     "text": [
      "SpearmanrResult(correlation=0.7706852377098591, pvalue=1.5603042276140894e-197)\n"
     ]
    }
   ],
   "source": [
    "import numpy\n",
    "import json\n",
    "from sklearn.metrics.pairwise import cosine_similarity\n",
    "from scipy import stats\n",
    "\n",
    "with open(\"/Users/silviafabbi/Desktop/Lab_2_files/word2idx_v2.json\") as in_file:   # open the file that maps words to their own index in the matrix\n",
    "    word2idx = json.load(in_file)\n",
    "idx2word = {v: k for k, v in word2idx.items()}  # build the reversed dictionary: from indeces to words\n",
    "\n",
    "matrix = numpy.load(\"/Users/silviafabbi/Desktop/Lab_2_files/word2vec_vectors_lab_v2.npz\")[\"arr_0\"]\n",
    "human_relatedness = []  # Prepare a list for relatedness values assigned by human annotators for a word pair\n",
    "word2vec_relatedness = []  # Prepare a list for cosine similarities between word pairs using word embeddings \n",
    "\n",
    "men = open(\"/Users/silviafabbi/Desktop/Lab_2_files/MEN_lab_2.txt\")  # Open the test set file (MEN dataset)\n",
    "for line in men.readlines():  # iterate over the dataset file line by line \n",
    "    word1 = line.split()[0]  # split (no argument=whitespace) and take the first word\n",
    "    word2 = line.split()[1]  # split and take the second word\n",
    "    h_r = line.split()[2]  # split and take the third value, which is the relatedness assigned by humans to the word pair [word1, word2]\n",
    "    human_relatedness.append(float(h_r))  # add relatedness assigned by humans to the human_relatedness list. float() converts a string into a number. N.B.: when you read a file, everything is considered to be a string\n",
    "    word_embedding_1 = matrix[word2idx[word1]].reshape(1, -1)  # take the word embedding of word1. reshape(1,-1) turns a vector into a matrix of one single row. This is required to run the cosine_similarity function\n",
    "    word_embedding_2 = matrix[word2idx[word2]].reshape(1, -1)  # take the word embedding of word2. reshape(1,-1) turns a vector into a matrix of one single row. This is required to run the cosine_similarity function\n",
    "    cos_sim = cosine_similarity(word_embedding_1, word_embedding_2)[0]  # compute the cosine similarity between the two words. [0] is extract the value of the cosine similarity out of a matrix with a single element\n",
    "    word2vec_relatedness.append(float(cos_sim))  # add this cosime similarity value to the word2vec_relatedness list\n",
    "\n",
    "    \n",
    "print(stats.spearmanr(human_relatedness, word2vec_relatedness))  # compute the Spearman's r coefficient between the relatedness values assigned by human annotators and the cosine similarity between word embeddings\n",
    "# The first value corresponds to the correlation coefficient and the second value to the p-value"
   ]
  },
  {
   "cell_type": "code",
   "execution_count": null,
   "metadata": {
    "id": "17La7Gl39scI",
    "outputId": "67919fe1-6486-4d85-e1f0-e9efb0a64718"
   },
   "outputs": [
    {
     "name": "stdout",
     "output_type": "stream",
     "text": [
      "Word 1 is shade\n",
      "Word 2 is whiskers\n",
      "Human relatedness is 1\n"
     ]
    }
   ],
   "source": [
    "# how can I cycle through the whole \n",
    "\n",
    "men_raw = open(\"/Users/silviafabbi/Desktop/MEN_2/agreement/elias-men-ratings.txt\")\n",
    "\n",
    "for line in men_raw.readlines():\n",
    "    word1s = line.split()[0]\n",
    "    word2s = line.split()[1]\n",
    "    h_r = line.split()[2]\n",
    "\n",
    "    \n",
    "print(\"Word 1 is\", line.split()[0])\n",
    "print(\"Word 2 is\", line.split()[1])\n",
    "print(\"Human relatedness is\", h_r)\n",
    "    "
   ]
  },
  {
   "cell_type": "code",
   "execution_count": null,
   "metadata": {
    "id": "cwORFvRh9scJ",
    "outputId": "70218098-bc04-4ddb-b85c-d75f86b4568a"
   },
   "outputs": [
    {
     "data": {
      "text/plain": [
       "_io.TextIOWrapper"
      ]
     },
     "execution_count": 2,
     "metadata": {
      "tags": []
     },
     "output_type": "execute_result"
    }
   ],
   "source": [
    "type(men_raw)"
   ]
  },
  {
   "cell_type": "code",
   "execution_count": null,
   "metadata": {
    "id": "2MvzOsJB9scJ",
    "outputId": "4672f268-f75d-4bff-e134-f445ac34c076"
   },
   "outputs": [
    {
     "name": "stdout",
     "output_type": "stream",
     "text": [
      "ice snow [0.53915557]\n"
     ]
    }
   ],
   "source": [
    "# qui non capisco come andare oltre la riga 1...\n",
    "\n",
    "word_embedding_1 = matrix[word2idx[word1]].reshape(1, -1)\n",
    "word_embedding_2 = matrix[word2idx[word2]].reshape(1, -1)\n",
    "cos_sim = cosine_similarity(word_embedding_1, word_embedding_2)[0]\n",
    "\n",
    "print(word1, word2, cos_sim)"
   ]
  },
  {
   "cell_type": "code",
   "execution_count": null,
   "metadata": {},
   "outputs": [],
   "source": []
  },
  {
   "cell_type": "code",
   "execution_count": null,
   "metadata": {},
   "outputs": [],
   "source": []
  },
  {
   "cell_type": "code",
   "execution_count": null,
   "metadata": {},
   "outputs": [],
   "source": [
    "coppie = [   \n",
    "    \n",
    "    ('scala', 'piede'),\n",
    "    ('calciare', 'lanciare'),\n",
    "    ('prendere', 'chiedere'),\n",
    "    ('ombrello', 'acqua'),\n",
    "    ('bagnato', 'dormire'),\n",
    "    ('rincorrere', 'prendere'),\n",
    "    ('scalare', 'girare'),\n",
    "    ('vetro', 'vetro'),\n",
    "    ('ombrello', 'pioggia'),\n",
    "    ('palla', 'finestra'),\n",
    "    ('rompere', 'venire'),\n",
    "    ('prendere', 'mettere'),\n",
    "    ('salvare', 'trascinare'),\n",
    "    ('sorellastre', 'donne'),\n",
    "    ('topi', 'scoiattoli'),\n",
    "    ('fata', 'amante'),\n",
    "    ('fata', 'aspetta'),\n",
    "    ('fata', 'la'),\n",
    "    ('pioggia', 'pioggia'),\n",
    "    ('bloccare', 'restare'),\n",
    "    ('figlie', 'sorelle'),\n",
    "    ('scomparire', 'spegnersi'),\n",
    "    ('lanciare', 'fare'),\n",
    "    ('uscire', 'partire'),\n",
    "    ('palla', 'palo')\n",
    "\n",
    "]"
   ]
  }
 ],
 "metadata": {
  "colab": {
   "name": "aphasia.ipynb",
   "provenance": []
  },
  "kernelspec": {
   "display_name": "Python 3",
   "language": "python",
   "name": "python3"
  },
  "language_info": {
   "codemirror_mode": {
    "name": "ipython",
    "version": 3
   },
   "file_extension": ".py",
   "mimetype": "text/x-python",
   "name": "python",
   "nbconvert_exporter": "python",
   "pygments_lexer": "ipython3",
   "version": "3.8.3"
  }
 },
 "nbformat": 4,
 "nbformat_minor": 1
}
